{
 "cells": [
  {
   "cell_type": "code",
   "execution_count": 3,
   "metadata": {},
   "outputs": [],
   "source": [
    "Name = \"Joey\"\n",
    "\n",
    "country = \"Racine\"\n",
    "\n",
    "age = 42\n",
    "\n",
    "hourly_wage = 20\n",
    "\n",
    "satisfied = True\n",
    "\n",
    "daily_wage = hourly_wage*8"
   ]
  },
  {
   "cell_type": "code",
   "execution_count": 4,
   "metadata": {},
   "outputs": [
    {
     "data": {
      "text/plain": [
       "160"
      ]
     },
     "execution_count": 4,
     "metadata": {},
     "output_type": "execute_result"
    }
   ],
   "source": [
    "daily_wage"
   ]
  },
  {
   "attachments": {},
   "cell_type": "markdown",
   "metadata": {},
   "source": [
    "Use traditional string concatenation to print the `name`, `country`, `age`, and `hourly_wage` variables."
   ]
  },
  {
   "cell_type": "code",
   "execution_count": 5,
   "metadata": {},
   "outputs": [
    {
     "name": "stdout",
     "output_type": "stream",
     "text": [
      "Joey from Racine makes 20\n"
     ]
    }
   ],
   "source": [
    "print(Name + \" from \" +country, \"makes\", hourly_wage)"
   ]
  },
  {
   "attachments": {},
   "cell_type": "markdown",
   "metadata": {},
   "source": [
    "With an `f-string`, print the `daily_wage` and `satisfied` variables\n"
   ]
  },
  {
   "cell_type": "code",
   "execution_count": 6,
   "metadata": {},
   "outputs": [
    {
     "name": "stdout",
     "output_type": "stream",
     "text": [
      "My name is, Joey and I earn, 160 a day. Satisfied, True\n"
     ]
    }
   ],
   "source": [
    "print(f'My name is, {Name} and I earn, {daily_wage} a day. Satisfied, {satisfied}')"
   ]
  },
  {
   "attachments": {},
   "cell_type": "markdown",
   "metadata": {},
   "source": [
    "* Create a Python list to store the following items as a list of strings. You need to buy:\n",
    "    * Milk\n",
    "    * Bread\n",
    "    * Eggs\n",
    "    * Peanut Butter\n",
    "    * Jelly\n",
    "\n",
    "* Print out the list\n",
    "\n",
    "* Wait! Your cousin is visiting next week, and they’re only allergic to peanuts! Change “peanut butter” in the list to “almond butter”.\n",
    "\n",
    "* You just remembered that you have homemade jam that your neighbor made for you. Remove “jelly” from the list.\n",
    "    \n",
    "* You just used up the last of your coffee. Add “coffee” to your grocery list.\n",
    "    \n",
    "* Print out the updated list."
   ]
  },
  {
   "cell_type": "code",
   "execution_count": 7,
   "metadata": {},
   "outputs": [
    {
     "data": {
      "text/plain": [
       "['Milk', 'Bread', 'Eggs', 'Peanut Butter', 'Jelly']"
      ]
     },
     "execution_count": 7,
     "metadata": {},
     "output_type": "execute_result"
    }
   ],
   "source": [
    "items_needed = ['Milk', 'Bread', 'Eggs', 'Peanut Butter', 'Jelly']\n",
    "items_needed"
   ]
  },
  {
   "cell_type": "code",
   "execution_count": 8,
   "metadata": {},
   "outputs": [
    {
     "data": {
      "text/plain": [
       "['Milk', 'Bread', 'Eggs', 'almond butter', 'Peanut Butter', 'Jelly']"
      ]
     },
     "execution_count": 8,
     "metadata": {},
     "output_type": "execute_result"
    }
   ],
   "source": [
    "items_needed.insert(3,'almond butter')\n",
    "items_needed"
   ]
  },
  {
   "cell_type": "code",
   "execution_count": 9,
   "metadata": {},
   "outputs": [
    {
     "data": {
      "text/plain": [
       "['Milk', 'Bread', 'Eggs', 'almond butter', 'Peanut Butter', 'Jelly', 'Salsa']"
      ]
     },
     "execution_count": 9,
     "metadata": {},
     "output_type": "execute_result"
    }
   ],
   "source": [
    "items_needed.append(\"Salsa\")\n",
    "items_needed"
   ]
  },
  {
   "cell_type": "code",
   "execution_count": 10,
   "metadata": {},
   "outputs": [
    {
     "data": {
      "text/plain": [
       "['Milk', 'Bread', 'Eggs', 'almond butter', 'Peanut Butter', 'Jelly']"
      ]
     },
     "execution_count": 10,
     "metadata": {},
     "output_type": "execute_result"
    }
   ],
   "source": [
    "items_needed.remove('Salsa')\n",
    "items_needed"
   ]
  },
  {
   "cell_type": "code",
   "execution_count": 11,
   "metadata": {},
   "outputs": [
    {
     "data": {
      "text/plain": [
       "['Milk', 'Bread', 'Eggs', 'almond butter', 'Jelly']"
      ]
     },
     "execution_count": 11,
     "metadata": {},
     "output_type": "execute_result"
    }
   ],
   "source": [
    "items_needed.pop(4)\n",
    "items_needed"
   ]
  },
  {
   "cell_type": "code",
   "execution_count": 12,
   "metadata": {},
   "outputs": [
    {
     "data": {
      "text/plain": [
       "['Milk', 'Bread', 'Eggs', 'almond butter', 'Jelly', 'coffee']"
      ]
     },
     "execution_count": 12,
     "metadata": {},
     "output_type": "execute_result"
    }
   ],
   "source": [
    "items_needed.append('coffee')\n",
    "items_needed\n"
   ]
  },
  {
   "attachments": {},
   "cell_type": "markdown",
   "metadata": {},
   "source": [
    "Random Practice"
   ]
  },
  {
   "cell_type": "code",
   "execution_count": 13,
   "metadata": {},
   "outputs": [],
   "source": [
    "import random"
   ]
  },
  {
   "cell_type": "code",
   "execution_count": 14,
   "metadata": {},
   "outputs": [
    {
     "name": "stdout",
     "output_type": "stream",
     "text": [
      "Jelly versus Bread\n"
     ]
    }
   ],
   "source": [
    "eating = random.choice(items_needed)\n",
    "today_menu = input('Hungry: Milk, Bread, Eggs, almond butter, coffee')\n",
    "\n",
    "if eating == today_menu:\n",
    "    print('well done')\n",
    "\n",
    "print(eating+ ' versus ' +today_menu)\n"
   ]
  },
  {
   "attachments": {},
   "cell_type": "markdown",
   "metadata": {},
   "source": [
    "## Instructions\n",
    "\n",
    "* Create a dictionary to store the following:\n",
    "  * Your pet's name\n",
    "  * Your pet's age\n",
    "  * A list of a few of your pet's hobbies\n",
    "  * A dictionary of a few times you wake up during the week\n",
    "\n",
    "* Print out the following:\n",
    "  * Your pet's name and age.\n",
    "  * How many hobbies your pet has.\n",
    "  * What your pet's favorite hobby is.\n",
    "  * What time your pet wakes on one of the days of the week."
   ]
  },
  {
   "cell_type": "code",
   "execution_count": 15,
   "metadata": {},
   "outputs": [
    {
     "data": {
      "text/plain": [
       "{'Name': 'Briggs',\n",
       " 'Years': '11',\n",
       " 'Hobbies': ('sleeping', 'pooping', 'eating'),\n",
       " 'Wake_up': {'Monday': '6am', 'Wednesday': '7am', 'Friday': '8am'}}"
      ]
     },
     "execution_count": 15,
     "metadata": {},
     "output_type": "execute_result"
    }
   ],
   "source": [
    "pet_stats = {'Name':'Briggs', 'Years': '11', 'Hobbies': ('sleeping', 'pooping', 'eating'),'Wake_up':{'Monday':'6am', 'Wednesday': '7am', 'Friday': '8am'}}\n",
    "pet_stats"
   ]
  },
  {
   "cell_type": "code",
   "execution_count": 16,
   "metadata": {},
   "outputs": [
    {
     "data": {
      "text/plain": [
       "range(0, 6)"
      ]
     },
     "execution_count": 16,
     "metadata": {},
     "output_type": "execute_result"
    }
   ],
   "source": [
    "items_range = range(len(items_needed))\n",
    "items_range"
   ]
  },
  {
   "cell_type": "code",
   "execution_count": 17,
   "metadata": {},
   "outputs": [
    {
     "name": "stdout",
     "output_type": "stream",
     "text": [
      "0\n",
      "1\n",
      "2\n",
      "3\n",
      "4\n",
      "5\n"
     ]
    }
   ],
   "source": [
    "for x in range(6):\n",
    "  print(x)"
   ]
  },
  {
   "cell_type": "code",
   "execution_count": 18,
   "metadata": {},
   "outputs": [
    {
     "name": "stdout",
     "output_type": "stream",
     "text": [
      "Briggs 11\n"
     ]
    }
   ],
   "source": [
    "print(pet_stats['Name'], pet_stats['Years'])"
   ]
  },
  {
   "cell_type": "code",
   "execution_count": 19,
   "metadata": {},
   "outputs": [
    {
     "name": "stdout",
     "output_type": "stream",
     "text": [
      "3\n"
     ]
    }
   ],
   "source": [
    "print(len(pet_stats['Hobbies']))"
   ]
  },
  {
   "cell_type": "code",
   "execution_count": 20,
   "metadata": {},
   "outputs": [
    {
     "name": "stdout",
     "output_type": "stream",
     "text": [
      "sleeping\n"
     ]
    }
   ],
   "source": [
    "print(pet_stats['Hobbies'][0])"
   ]
  },
  {
   "cell_type": "code",
   "execution_count": 21,
   "metadata": {},
   "outputs": [
    {
     "name": "stdout",
     "output_type": "stream",
     "text": [
      "6am\n"
     ]
    }
   ],
   "source": [
    "print(pet_stats['Wake_up']['Monday'])"
   ]
  }
 ],
 "metadata": {
  "kernelspec": {
   "display_name": "Python 3",
   "language": "python",
   "name": "python3"
  },
  "language_info": {
   "codemirror_mode": {
    "name": "ipython",
    "version": 3
   },
   "file_extension": ".py",
   "mimetype": "text/x-python",
   "name": "python",
   "nbconvert_exporter": "python",
   "pygments_lexer": "ipython3",
   "version": "3.10.9 (tags/v3.10.9:1dd9be6, Dec  6 2022, 20:01:21) [MSC v.1934 64 bit (AMD64)]"
  },
  "orig_nbformat": 4,
  "vscode": {
   "interpreter": {
    "hash": "b47b7a402ee6247eb7f649a01c3cc5cb067c084d2d9829bd69d0f4cb90cacfaf"
   }
  }
 },
 "nbformat": 4,
 "nbformat_minor": 2
}
