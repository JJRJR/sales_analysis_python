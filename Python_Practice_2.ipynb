{
 "cells": [
  {
   "cell_type": "code",
   "execution_count": null,
   "metadata": {},
   "outputs": [],
   "source": [
    "x = 5\n",
    "y = 10\n",
    "if 2 * x > 10:\n",
    "    print(\"Question 1 works!\")\n",
    "else:\n",
    "    print(\"oooo needs some work\")"
   ]
  },
  {
   "cell_type": "code",
   "execution_count": null,
   "metadata": {},
   "outputs": [],
   "source": [
    "x = 5\n",
    "y = 10\n",
    "if len(\"Dog\") < x:\n",
    "    print(\"Question 2 works!\")\n",
    "else:\n",
    "    print(\"Still missing out\")"
   ]
  },
  {
   "cell_type": "code",
   "execution_count": null,
   "metadata": {},
   "outputs": [],
   "source": [
    "x = 2\n",
    "y = 5\n",
    "if (x ** 3 >= y) and (y ** 2 < 26):\n",
    "    print(\"GOT QUESTION 3!\")\n",
    "else:\n",
    "    print(\"Oh good you can count\")"
   ]
  },
  {
   "cell_type": "code",
   "execution_count": null,
   "metadata": {},
   "outputs": [],
   "source": [
    "name = \"Dan\"\n",
    "group_one = [\"Greg\", \"Tony\", \"Susan\"]\n",
    "group_two = [\"Gerald\", \"Paul\", \"Ryder\"]\n",
    "group_three = [\"Carla\", \"Dan\", \"Jefferson\"]\n",
    "\n",
    "if name in group_one:\n",
    "    print(name + \" is in the first group\")\n",
    "elif name in group_two:\n",
    "    print(name + \" is in group two\")\n",
    "elif name in group_three:\n",
    "    print(name + \" is in group three\")\n",
    "else:\n",
    "    print(name + \" does not have a group\")"
   ]
  },
  {
   "cell_type": "code",
   "execution_count": null,
   "metadata": {},
   "outputs": [],
   "source": [
    "height = 66\n",
    "age = 16\n",
    "adult_permission = True\n",
    "\n",
    "if (height > 70) and (age >= 18):\n",
    "    print(\"Can ride all the roller coasters\")\n",
    "elif (height > 65) and (age >= 18):\n",
    "    print(\"Can ride moderate roller coasters\")\n",
    "elif (height > 60) and (age >= 18):\n",
    "    print(\"Can ride light roller coasters\")\n",
    "elif ((height > 50) and (age >= 18)) or ((adult_permission) and (height > 50)):\n",
    "    print(\"Can ride bumper cars\")\n",
    "else:\n",
    "    print(\"Stick to lazy river\")"
   ]
  },
  {
   "attachments": {},
   "cell_type": "markdown",
   "metadata": {},
   "source": [
    "Chain up the numbers\n",
    "\n",
    "## Instructions\n",
    "\n",
    "* Using a while loop, ask the user \"How many numbers?\", then print out a chain of ascending numbers, starting at 0.\n",
    "\n",
    "* After the results have printed ask the user if they would like to continue.\n",
    "\n",
    "  * If \"y\", restart the process, starting at 0 again.\n",
    "\n",
    "  * If \"n\", exit the chain.\n",
    "\n",
    "## Bonus\n",
    "\n",
    "* Rather than just displaying numbers constantly starting at 0, have the numbers begin at the end of the previous chain.\n"
   ]
  },
  {
   "cell_type": "code",
   "execution_count": null,
   "metadata": {},
   "outputs": [],
   "source": [
    "# Initial variable to track game play\n",
    "user_play = \"y\"\n",
    "\n",
    "# While we are still playing...\n",
    "while user_play == \"y\":\n",
    "\n",
    "    # Ask the user how many numbers to loop through\n",
    "    user_number = int(input(\"How many numbers? \"))\n",
    "\n",
    "    # Loop through the numbers. (Be sure to cast the string into an integer.)\n",
    "    for x in range(user_number):\n",
    "\n",
    "        # Print each number in the range\n",
    "        print(x)\n",
    "\n",
    "    # Once complete...\n",
    "    user_play = input(\"Continue: (y)es or (n)o? \")\n"
   ]
  },
  {
   "cell_type": "code",
   "execution_count": null,
   "metadata": {},
   "outputs": [],
   "source": [
    "bears = \"y\"\n",
    "start_number = 0\n",
    "while bears == \"y\":\n",
    "    user_number = int(input(\"How many numbers? \"))\n",
    "\n",
    "    for u in range(start_number, int(user_number) + start_number):\n",
    "        print(u)\n",
    "    \n",
    "    start_number = start_number + int(user_number)\n",
    "    \n",
    "    bears = input('press x to stop or y to go again: y')"
   ]
  },
  {
   "cell_type": "code",
   "execution_count": null,
   "metadata": {},
   "outputs": [],
   "source": [
    "start_number"
   ]
  },
  {
   "cell_type": "code",
   "execution_count": null,
   "metadata": {},
   "outputs": [],
   "source": [
    "x = (1,2,3,4,5,6,7,8,9)\n",
    "y = (1,2,3,4,5,6,7,8,9)\n",
    "\n",
    "\n",
    "for i in x:\n",
    "    for j in y:\n",
    "        print(i*j)"
   ]
  },
  {
   "attachments": {},
   "cell_type": "markdown",
   "metadata": {},
   "source": [
    "# Modules\n",
    "import os\n",
    "import csv\n",
    "\n",
    "# Prompt user for video lookup\n",
    "video = input(\"What show or movie are you looking for? \")\n",
    "\n",
    "# Set path for file\n",
    "\n",
    "\n",
    "# Open the CSV\n",
    "\n",
    "\n",
    "    # Loop through looking for the video"
   ]
  },
  {
   "cell_type": "code",
   "execution_count": null,
   "metadata": {},
   "outputs": [],
   "source": [
    "import os\n",
    "import csv\n",
    "\n",
    "video = input(\"What show or movie are you looking for? \")\n",
    "\n",
    "csvpath = os.path.join(\"..\", \"Business Analysis\", \"netflix_ratings.csv\")\n",
    "\n",
    "found = False\n",
    "\n",
    "with open(csvpath, newline='') as csvfile:\n",
    "    csvreader = csv.reader(csvfile, delimiter=\",\")\n",
    "\n",
    "    for row in csvreader:\n",
    "        if row[0] == video:\n",
    "            print(row[0] + \" is rated \" + row[1] + \" with a rating of \" + row[5])\n",
    "            found = True\n",
    "            break\n",
    "        else: print(\"Sorry about this, we don't seem to have what you are looking for!\")\n",
    "\n",
    "\n",
    "\n"
   ]
  },
  {
   "cell_type": "code",
   "execution_count": null,
   "metadata": {},
   "outputs": [],
   "source": []
  }
 ],
 "metadata": {
  "kernelspec": {
   "display_name": "Python 3",
   "language": "python",
   "name": "python3"
  },
  "language_info": {
   "codemirror_mode": {
    "name": "ipython",
    "version": 3
   },
   "file_extension": ".py",
   "mimetype": "text/x-python",
   "name": "python",
   "nbconvert_exporter": "python",
   "pygments_lexer": "ipython3",
   "version": "3.10.9"
  },
  "orig_nbformat": 4,
  "vscode": {
   "interpreter": {
    "hash": "b47b7a402ee6247eb7f649a01c3cc5cb067c084d2d9829bd69d0f4cb90cacfaf"
   }
  }
 },
 "nbformat": 4,
 "nbformat_minor": 2
}
