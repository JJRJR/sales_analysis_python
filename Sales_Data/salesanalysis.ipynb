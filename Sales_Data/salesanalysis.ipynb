{
 "cells": [
  {
   "cell_type": "code",
   "execution_count": 29,
   "metadata": {},
   "outputs": [],
   "source": [
    "import csv\n",
    "import os\n",
    "import pandas as pd\n",
    "import pathlib as Path\n",
    "import matplotlib.pyplot as plt\n",
    "\n",
    "csvpath = os.path.join(\"..\", \"Sales_Data\", \"Sales_January_2019.csv\")"
   ]
  },
  {
   "attachments": {},
   "cell_type": "markdown",
   "metadata": {},
   "source": [
    "### OPENING, READING, AND ITERATING THROUGH EACH ROW AND COLUMN TO SUM EACH ONE. INTEGERS ONLY."
   ]
  },
  {
   "cell_type": "code",
   "execution_count": 24,
   "metadata": {},
   "outputs": [
    {
     "name": "stdout",
     "output_type": "stream",
     "text": [
      "Quantity Ordered: 209038\n",
      "Total: 34490742\n"
     ]
    }
   ],
   "source": [
    "# opens CSV file to read, csv.reader function is used to read the file, next() function is used to read the header.\n",
    "with open('merged_file_totals.csv', 'r') as file:\n",
    "    reader = csv.reader(file)\n",
    "\n",
    "    # get the header row\n",
    "    header = next(reader)\n",
    "\n",
    "    # create a dictionary to store the column sums header [i] is the key and it's set to zero. for statement iterates through the range of numbers the length of the headers.\n",
    "    column_sums = {header[i]: 0 for i in range(len(header))}\n",
    "\n",
    "    # Iterates through each row using the reader function which is a function that iterates through rows\n",
    "    for row in reader:\n",
    "        # this is to iterates through the columns remember the range is the length of the row.\n",
    "        for i in range(len(row)):\n",
    "            # adds the totals of each column to columns headers\n",
    "            column_sums[header[i]] += int(row[i])\n",
    "\n",
    "for column, sum in column_sums.items():\n",
    "    print(f'{column}: {sum}')"
   ]
  },
  {
   "attachments": {},
   "cell_type": "markdown",
   "metadata": {},
   "source": [
    "### Merging Multiple Files Together for Analysis"
   ]
  },
  {
   "cell_type": "code",
   "execution_count": 25,
   "metadata": {},
   "outputs": [
    {
     "name": "stderr",
     "output_type": "stream",
     "text": [
      "C:\\Users\\12626\\AppData\\Local\\Temp\\ipykernel_24672\\459448863.py:13: FutureWarning: The frame.append method is deprecated and will be removed from pandas in a future version. Use pandas.concat instead.\n",
      "  year_2019_df = year_2019_df.append(data)\n",
      "C:\\Users\\12626\\AppData\\Local\\Temp\\ipykernel_24672\\459448863.py:13: FutureWarning: The frame.append method is deprecated and will be removed from pandas in a future version. Use pandas.concat instead.\n",
      "  year_2019_df = year_2019_df.append(data)\n",
      "C:\\Users\\12626\\AppData\\Local\\Temp\\ipykernel_24672\\459448863.py:13: FutureWarning: The frame.append method is deprecated and will be removed from pandas in a future version. Use pandas.concat instead.\n",
      "  year_2019_df = year_2019_df.append(data)\n",
      "C:\\Users\\12626\\AppData\\Local\\Temp\\ipykernel_24672\\459448863.py:13: FutureWarning: The frame.append method is deprecated and will be removed from pandas in a future version. Use pandas.concat instead.\n",
      "  year_2019_df = year_2019_df.append(data)\n",
      "C:\\Users\\12626\\AppData\\Local\\Temp\\ipykernel_24672\\459448863.py:13: FutureWarning: The frame.append method is deprecated and will be removed from pandas in a future version. Use pandas.concat instead.\n",
      "  year_2019_df = year_2019_df.append(data)\n",
      "C:\\Users\\12626\\AppData\\Local\\Temp\\ipykernel_24672\\459448863.py:13: FutureWarning: The frame.append method is deprecated and will be removed from pandas in a future version. Use pandas.concat instead.\n",
      "  year_2019_df = year_2019_df.append(data)\n",
      "C:\\Users\\12626\\AppData\\Local\\Temp\\ipykernel_24672\\459448863.py:13: FutureWarning: The frame.append method is deprecated and will be removed from pandas in a future version. Use pandas.concat instead.\n",
      "  year_2019_df = year_2019_df.append(data)\n",
      "C:\\Users\\12626\\AppData\\Local\\Temp\\ipykernel_24672\\459448863.py:13: FutureWarning: The frame.append method is deprecated and will be removed from pandas in a future version. Use pandas.concat instead.\n",
      "  year_2019_df = year_2019_df.append(data)\n",
      "C:\\Users\\12626\\AppData\\Local\\Temp\\ipykernel_24672\\459448863.py:13: FutureWarning: The frame.append method is deprecated and will be removed from pandas in a future version. Use pandas.concat instead.\n",
      "  year_2019_df = year_2019_df.append(data)\n",
      "C:\\Users\\12626\\AppData\\Local\\Temp\\ipykernel_24672\\459448863.py:13: FutureWarning: The frame.append method is deprecated and will be removed from pandas in a future version. Use pandas.concat instead.\n",
      "  year_2019_df = year_2019_df.append(data)\n",
      "C:\\Users\\12626\\AppData\\Local\\Temp\\ipykernel_24672\\459448863.py:13: FutureWarning: The frame.append method is deprecated and will be removed from pandas in a future version. Use pandas.concat instead.\n",
      "  year_2019_df = year_2019_df.append(data)\n",
      "C:\\Users\\12626\\AppData\\Local\\Temp\\ipykernel_24672\\459448863.py:13: FutureWarning: The frame.append method is deprecated and will be removed from pandas in a future version. Use pandas.concat instead.\n",
      "  year_2019_df = year_2019_df.append(data)\n"
     ]
    }
   ],
   "source": [
    "# Create a variable with a list of the file names to be merged. Remember all headers need to be the same to work properly.\n",
    "filenames = ['Sales_January_2019.csv', 'Sales_February_2019.csv', 'Sales_March_2019.csv', \n",
    "            'Sales_April_2019.csv','Sales_May_2019.csv','Sales_June_2019.csv',\n",
    "            'Sales_July_2019.csv','Sales_August_2019.csv','Sales_September_2019.csv',\n",
    "            'Sales_October_2019.csv','Sales_November_2019.csv','Sales_December_2019.csv']\n",
    "\n",
    "# Create an empty dataframe to store csv file\n",
    "year_2019_df = pd.DataFrame()\n",
    "\n",
    "# line one iterates through filenames. line 2 reads the csv file and line three adds it to a data frame. append data from each file\n",
    "for filename in filenames:\n",
    "    data = pd.read_csv(filename)\n",
    "    year_2019_df = year_2019_df.append(data)\n",
    "\n",
    "# basically creating a new file with the dataframe of your choice. Index False will remove the index and keep just the data.\n",
    "year_2019_df.to_csv('merged_file_org.csv', index=False)\n",
    "\n"
   ]
  },
  {
   "attachments": {},
   "cell_type": "markdown",
   "metadata": {},
   "source": [
    "### Read in Merged Data Set"
   ]
  },
  {
   "cell_type": "code",
   "execution_count": 26,
   "metadata": {},
   "outputs": [
    {
     "data": {
      "text/html": [
       "<div>\n",
       "<style scoped>\n",
       "    .dataframe tbody tr th:only-of-type {\n",
       "        vertical-align: middle;\n",
       "    }\n",
       "\n",
       "    .dataframe tbody tr th {\n",
       "        vertical-align: top;\n",
       "    }\n",
       "\n",
       "    .dataframe thead th {\n",
       "        text-align: right;\n",
       "    }\n",
       "</style>\n",
       "<table border=\"1\" class=\"dataframe\">\n",
       "  <thead>\n",
       "    <tr style=\"text-align: right;\">\n",
       "      <th></th>\n",
       "      <th>Order ID</th>\n",
       "      <th>Product</th>\n",
       "      <th>Quantity Ordered</th>\n",
       "      <th>Price Each</th>\n",
       "      <th>Total</th>\n",
       "      <th>Date</th>\n",
       "      <th>Time</th>\n",
       "      <th>Street Address</th>\n",
       "      <th>City</th>\n",
       "      <th>State</th>\n",
       "      <th>Zip Code</th>\n",
       "    </tr>\n",
       "  </thead>\n",
       "  <tbody>\n",
       "    <tr>\n",
       "      <th>0</th>\n",
       "      <td>141234.0</td>\n",
       "      <td>iPhone</td>\n",
       "      <td>1.0</td>\n",
       "      <td>$700.00</td>\n",
       "      <td>$700.00</td>\n",
       "      <td>1/22/2019</td>\n",
       "      <td>9:25:00</td>\n",
       "      <td>944 Walnut St</td>\n",
       "      <td>Boston</td>\n",
       "      <td>MA</td>\n",
       "      <td>2215.0</td>\n",
       "    </tr>\n",
       "    <tr>\n",
       "      <th>1</th>\n",
       "      <td>141235.0</td>\n",
       "      <td>Lightning Charging Cable</td>\n",
       "      <td>1.0</td>\n",
       "      <td>$14.95</td>\n",
       "      <td>$14.95</td>\n",
       "      <td>1/28/2019</td>\n",
       "      <td>2:15:00</td>\n",
       "      <td>185 Maple St</td>\n",
       "      <td>Portland</td>\n",
       "      <td>OR</td>\n",
       "      <td>97035.0</td>\n",
       "    </tr>\n",
       "    <tr>\n",
       "      <th>2</th>\n",
       "      <td>141236.0</td>\n",
       "      <td>Wired Headphones</td>\n",
       "      <td>2.0</td>\n",
       "      <td>$11.99</td>\n",
       "      <td>$23.98</td>\n",
       "      <td>1/17/2019</td>\n",
       "      <td>1:33:00</td>\n",
       "      <td>538 Adams St</td>\n",
       "      <td>San Francisco</td>\n",
       "      <td>CA</td>\n",
       "      <td>94016.0</td>\n",
       "    </tr>\n",
       "    <tr>\n",
       "      <th>3</th>\n",
       "      <td>141237.0</td>\n",
       "      <td>27in FHD Monitor</td>\n",
       "      <td>1.0</td>\n",
       "      <td>$149.99</td>\n",
       "      <td>$149.99</td>\n",
       "      <td>1/5/2019</td>\n",
       "      <td>8:33:00</td>\n",
       "      <td>738 10th St</td>\n",
       "      <td>Los Angeles</td>\n",
       "      <td>CA</td>\n",
       "      <td>90001.0</td>\n",
       "    </tr>\n",
       "    <tr>\n",
       "      <th>4</th>\n",
       "      <td>141238.0</td>\n",
       "      <td>Wired Headphones</td>\n",
       "      <td>1.0</td>\n",
       "      <td>$11.99</td>\n",
       "      <td>$11.99</td>\n",
       "      <td>1/25/2019</td>\n",
       "      <td>11:59:00</td>\n",
       "      <td>387 10th St</td>\n",
       "      <td>Austin</td>\n",
       "      <td>TX</td>\n",
       "      <td>73301.0</td>\n",
       "    </tr>\n",
       "  </tbody>\n",
       "</table>\n",
       "</div>"
      ],
      "text/plain": [
       "   Order ID                   Product  Quantity Ordered Price Each     Total  \\\n",
       "0  141234.0                    iPhone               1.0   $700.00   $700.00    \n",
       "1  141235.0  Lightning Charging Cable               1.0    $14.95    $14.95    \n",
       "2  141236.0          Wired Headphones               2.0    $11.99    $23.98    \n",
       "3  141237.0          27in FHD Monitor               1.0   $149.99   $149.99    \n",
       "4  141238.0          Wired Headphones               1.0    $11.99    $11.99    \n",
       "\n",
       "        Date      Time Street Address            City State  Zip Code  \n",
       "0  1/22/2019   9:25:00  944 Walnut St          Boston    MA    2215.0  \n",
       "1  1/28/2019   2:15:00   185 Maple St        Portland    OR   97035.0  \n",
       "2  1/17/2019   1:33:00   538 Adams St   San Francisco    CA   94016.0  \n",
       "3   1/5/2019   8:33:00    738 10th St     Los Angeles    CA   90001.0  \n",
       "4  1/25/2019  11:59:00    387 10th St          Austin    TX   73301.0  "
      ]
     },
     "execution_count": 26,
     "metadata": {},
     "output_type": "execute_result"
    }
   ],
   "source": [
    "merged_file_2019 = pd.read_csv('merged_file_2019.csv')\n",
    "merged_file_2019.head()"
   ]
  },
  {
   "attachments": {},
   "cell_type": "markdown",
   "metadata": {},
   "source": [
    "### Identifying each indiviual entry in the State column and counting each one."
   ]
  },
  {
   "cell_type": "code",
   "execution_count": 33,
   "metadata": {},
   "outputs": [
    {
     "name": "stdout",
     "output_type": "stream",
     "text": [
      "[' Boston' ' Portland' ' San Francisco' ' Los Angeles' ' Austin'\n",
      " ' Atlanta' ' Seattle' ' New York City' ' Dallas' nan]  San Francisco    44720\n",
      " Los Angeles      29604\n",
      " New York City    24866\n",
      " Boston           19930\n",
      " Atlanta          14881\n",
      " Dallas           14818\n",
      " Seattle          14731\n",
      " Portland         12463\n",
      " Austin            9903\n",
      "Name: City, dtype: int64\n"
     ]
    }
   ],
   "source": [
    "state_list = merged_file_2019['City'].unique()\n",
    "state_count = merged_file_2019['City'].value_counts()\n",
    "print(state_list, state_count)"
   ]
  },
  {
   "attachments": {},
   "cell_type": "markdown",
   "metadata": {},
   "source": [
    "### What was the best month for sales? How much was earned that month?"
   ]
  },
  {
   "attachments": {},
   "cell_type": "markdown",
   "metadata": {},
   "source": [
    "### Cleaning Data with Python"
   ]
  },
  {
   "cell_type": "code",
   "execution_count": null,
   "metadata": {},
   "outputs": [],
   "source": [
    "# Converted Dataframe to csv file\n",
    "# new_all_2019.to_csv('new_all_2019.csv', index=False)"
   ]
  },
  {
   "cell_type": "code",
   "execution_count": null,
   "metadata": {},
   "outputs": [],
   "source": [
    "# Converted csv file to Dataframe\n",
    "# clean_all_2019 = pd.read_csv('clean_all_2019.csv')\n",
    "# clean_all_2019.head()\n"
   ]
  },
  {
   "cell_type": "code",
   "execution_count": 55,
   "metadata": {},
   "outputs": [
    {
     "data": {
      "text/html": [
       "<div>\n",
       "<style scoped>\n",
       "    .dataframe tbody tr th:only-of-type {\n",
       "        vertical-align: middle;\n",
       "    }\n",
       "\n",
       "    .dataframe tbody tr th {\n",
       "        vertical-align: top;\n",
       "    }\n",
       "\n",
       "    .dataframe thead th {\n",
       "        text-align: right;\n",
       "    }\n",
       "</style>\n",
       "<table border=\"1\" class=\"dataframe\">\n",
       "  <thead>\n",
       "    <tr style=\"text-align: right;\">\n",
       "      <th></th>\n",
       "      <th>Order ID</th>\n",
       "      <th>Product</th>\n",
       "      <th>Quantity Ordered</th>\n",
       "      <th>Price Each</th>\n",
       "      <th>Total</th>\n",
       "      <th>Date</th>\n",
       "      <th>Time</th>\n",
       "      <th>Street Address</th>\n",
       "      <th>City</th>\n",
       "      <th>State</th>\n",
       "      <th>Zip Code</th>\n",
       "    </tr>\n",
       "  </thead>\n",
       "  <tbody>\n",
       "    <tr>\n",
       "      <th>0</th>\n",
       "      <td>141234.0</td>\n",
       "      <td>iPhone</td>\n",
       "      <td>1.0</td>\n",
       "      <td>$700.00</td>\n",
       "      <td>$700.00</td>\n",
       "      <td>1/22/2019</td>\n",
       "      <td>9:25:00</td>\n",
       "      <td>944 Walnut St</td>\n",
       "      <td>Boston</td>\n",
       "      <td>MA</td>\n",
       "      <td>2215.0</td>\n",
       "    </tr>\n",
       "    <tr>\n",
       "      <th>1</th>\n",
       "      <td>141235.0</td>\n",
       "      <td>Lightning Charging Cable</td>\n",
       "      <td>1.0</td>\n",
       "      <td>$14.95</td>\n",
       "      <td>$14.95</td>\n",
       "      <td>1/28/2019</td>\n",
       "      <td>2:15:00</td>\n",
       "      <td>185 Maple St</td>\n",
       "      <td>Portland</td>\n",
       "      <td>OR</td>\n",
       "      <td>97035.0</td>\n",
       "    </tr>\n",
       "    <tr>\n",
       "      <th>2</th>\n",
       "      <td>141236.0</td>\n",
       "      <td>Wired Headphones</td>\n",
       "      <td>2.0</td>\n",
       "      <td>$11.99</td>\n",
       "      <td>$23.98</td>\n",
       "      <td>1/17/2019</td>\n",
       "      <td>1:33:00</td>\n",
       "      <td>538 Adams St</td>\n",
       "      <td>San Francisco</td>\n",
       "      <td>CA</td>\n",
       "      <td>94016.0</td>\n",
       "    </tr>\n",
       "    <tr>\n",
       "      <th>3</th>\n",
       "      <td>141237.0</td>\n",
       "      <td>27in FHD Monitor</td>\n",
       "      <td>1.0</td>\n",
       "      <td>$149.99</td>\n",
       "      <td>$149.99</td>\n",
       "      <td>1/5/2019</td>\n",
       "      <td>8:33:00</td>\n",
       "      <td>738 10th St</td>\n",
       "      <td>Los Angeles</td>\n",
       "      <td>CA</td>\n",
       "      <td>90001.0</td>\n",
       "    </tr>\n",
       "    <tr>\n",
       "      <th>4</th>\n",
       "      <td>141238.0</td>\n",
       "      <td>Wired Headphones</td>\n",
       "      <td>1.0</td>\n",
       "      <td>$11.99</td>\n",
       "      <td>$11.99</td>\n",
       "      <td>1/25/2019</td>\n",
       "      <td>11:59:00</td>\n",
       "      <td>387 10th St</td>\n",
       "      <td>Austin</td>\n",
       "      <td>TX</td>\n",
       "      <td>73301.0</td>\n",
       "    </tr>\n",
       "  </tbody>\n",
       "</table>\n",
       "</div>"
      ],
      "text/plain": [
       "   Order ID                   Product  Quantity Ordered Price Each     Total  \\\n",
       "0  141234.0                    iPhone               1.0   $700.00   $700.00    \n",
       "1  141235.0  Lightning Charging Cable               1.0    $14.95    $14.95    \n",
       "2  141236.0          Wired Headphones               2.0    $11.99    $23.98    \n",
       "3  141237.0          27in FHD Monitor               1.0   $149.99   $149.99    \n",
       "4  141238.0          Wired Headphones               1.0    $11.99    $11.99    \n",
       "\n",
       "        Date      Time Street Address            City State  Zip Code  \n",
       "0  1/22/2019   9:25:00  944 Walnut St          Boston    MA    2215.0  \n",
       "1  1/28/2019   2:15:00   185 Maple St        Portland    OR   97035.0  \n",
       "2  1/17/2019   1:33:00   538 Adams St   San Francisco    CA   94016.0  \n",
       "3   1/5/2019   8:33:00    738 10th St     Los Angeles    CA   90001.0  \n",
       "4  1/25/2019  11:59:00    387 10th St          Austin    TX   73301.0  "
      ]
     },
     "execution_count": 55,
     "metadata": {},
     "output_type": "execute_result"
    }
   ],
   "source": [
    "merged_file_2019['Time'] = merged_file_2019['Time'].astype('str')\n",
    "merged_file_2019.head()"
   ]
  },
  {
   "cell_type": "code",
   "execution_count": 56,
   "metadata": {},
   "outputs": [
    {
     "name": "stdout",
     "output_type": "stream",
     "text": [
      "Order ID            float64\n",
      "Product              object\n",
      "Quantity Ordered    float64\n",
      "Price Each           object\n",
      "Total                object\n",
      "Date                 object\n",
      "Time                 object\n",
      "Street Address       object\n",
      "City                 object\n",
      "State                object\n",
      "Zip Code            float64\n",
      "dtype: object\n"
     ]
    }
   ],
   "source": [
    "print(merged_file_2019.dtypes)"
   ]
  }
 ],
 "metadata": {
  "kernelspec": {
   "display_name": "Python 3",
   "language": "python",
   "name": "python3"
  },
  "language_info": {
   "codemirror_mode": {
    "name": "ipython",
    "version": 3
   },
   "file_extension": ".py",
   "mimetype": "text/x-python",
   "name": "python",
   "nbconvert_exporter": "python",
   "pygments_lexer": "ipython3",
   "version": "3.10.9"
  },
  "orig_nbformat": 4,
  "vscode": {
   "interpreter": {
    "hash": "b47b7a402ee6247eb7f649a01c3cc5cb067c084d2d9829bd69d0f4cb90cacfaf"
   }
  }
 },
 "nbformat": 4,
 "nbformat_minor": 2
}
