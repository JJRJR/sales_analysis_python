{
 "cells": [
  {
   "cell_type": "code",
   "execution_count": null,
   "metadata": {},
   "outputs": [],
   "source": [
    "import csv\n",
    "import os\n",
    "import pandas as pd\n",
    "import pathlib as Path\n",
    "\n",
    "csvpath = os.path.join(\"..\", \"Sales_Data\", \"Sales_January_2019.csv\")"
   ]
  },
  {
   "attachments": {},
   "cell_type": "markdown",
   "metadata": {},
   "source": [
    "### OPENING, READING, AND ITERATING THROUGH EACH ROW AND COLUMN TO SUM EACH ONE. INTEGERS ONLY."
   ]
  },
  {
   "cell_type": "code",
   "execution_count": null,
   "metadata": {},
   "outputs": [],
   "source": [
    "# opens CSV file to read, csv.reader function is used to read the file, next() function is used to read the header.\n",
    "with open('Sales_January_2019.csv', 'r') as file:\n",
    "    reader = csv.reader(file)\n",
    "\n",
    "    # get the header row\n",
    "    header = next(reader)\n",
    "\n",
    "    # create a dictionary to store the column sums header [i] is the key and it's set to zero. for statement iterates through the range of numbers the length of the headers.\n",
    "    column_sums = {header[i]: 0 for i in range(len(header))}\n",
    "\n",
    "    # Iterates through each row using the reader function which is a function that iterates through rows\n",
    "    for row in reader:\n",
    "        # this is to iterates through the columns remember the range is the length of the row.\n",
    "        for i in range(len(row)):\n",
    "            # adds the totals of each column to columns headers\n",
    "            column_sums[header[i]] += int(row[i])\n",
    "\n",
    "for column, sum in column_sums.items():\n",
    "    print(f'{column}: {sum}')"
   ]
  }
 ],
 "metadata": {
  "kernelspec": {
   "display_name": "Python 3",
   "language": "python",
   "name": "python3"
  },
  "language_info": {
   "codemirror_mode": {
    "name": "ipython",
    "version": 3
   },
   "file_extension": ".py",
   "mimetype": "text/x-python",
   "name": "python",
   "nbconvert_exporter": "python",
   "pygments_lexer": "ipython3",
   "version": "3.10.9"
  },
  "orig_nbformat": 4,
  "vscode": {
   "interpreter": {
    "hash": "b47b7a402ee6247eb7f649a01c3cc5cb067c084d2d9829bd69d0f4cb90cacfaf"
   }
  }
 },
 "nbformat": 4,
 "nbformat_minor": 2
}
