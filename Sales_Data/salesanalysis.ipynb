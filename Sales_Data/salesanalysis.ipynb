{
 "cells": [
  {
   "cell_type": "code",
   "execution_count": 29,
   "metadata": {},
   "outputs": [],
   "source": [
    "import csv\n",
    "import os\n",
    "import pandas as pd\n",
    "import pathlib as Path\n",
    "\n",
    "csvpath = os.path.join(\"..\", \"Sales_Data\", \"Sales_January_2019.csv\")"
   ]
  },
  {
   "attachments": {},
   "cell_type": "markdown",
   "metadata": {},
   "source": [
    "### OPENING, READING, AND ITERATING THROUGH EACH ROW AND COLUMN TO SUM EACH ONE. INTEGERS ONLY."
   ]
  },
  {
   "cell_type": "code",
   "execution_count": 30,
   "metadata": {},
   "outputs": [
    {
     "name": "stdout",
     "output_type": "stream",
     "text": [
      "Quantity Ordered: 209038\n",
      "Price Each: 34286907\n"
     ]
    }
   ],
   "source": [
    "# opens CSV file to read, csv.reader function is used to read the file, next() function is used to read the header.\n",
    "with open('merged_file_totals.csv', 'r') as file:\n",
    "    reader = csv.reader(file)\n",
    "\n",
    "    # get the header row\n",
    "    header = next(reader)\n",
    "\n",
    "    # create a dictionary to store the column sums header [i] is the key and it's set to zero. for statement iterates through the range of numbers the length of the headers.\n",
    "    column_sums = {header[i]: 0 for i in range(len(header))}\n",
    "\n",
    "    # Iterates through each row using the reader function which is a function that iterates through rows\n",
    "    for row in reader:\n",
    "        # this is to iterates through the columns remember the range is the length of the row.\n",
    "        for i in range(len(row)):\n",
    "            # adds the totals of each column to columns headers\n",
    "            column_sums[header[i]] += int(row[i])\n",
    "\n",
    "for column, sum in column_sums.items():\n",
    "    print(f'{column}: {sum}')"
   ]
  },
  {
   "attachments": {},
   "cell_type": "markdown",
   "metadata": {},
   "source": [
    "### Merging Multiple Files Together for Analysis"
   ]
  },
  {
   "cell_type": "code",
   "execution_count": null,
   "metadata": {},
   "outputs": [],
   "source": [
    "# Create a variable with a list of the file names to be merged. Remember all headers need to be the same to work properly.\n",
    "filenames = ['Sales_January_2019.csv', 'Sales_February_2019.csv', 'Sales_March_2019.csv', \n",
    "            'Sales_April_2019.csv','Sales_May_2019.csv','Sales_June_2019.csv',\n",
    "            'Sales_July_2019.csv','Sales_August_2019.csv','Sales_September_2019.csv',\n",
    "            'Sales_October_2019.csv','Sales_November_2019.csv','Sales_December_2019.csv']\n",
    "\n",
    "# Create an empty dataframe to store csv file\n",
    "year_2019_df = pd.DataFrame()\n",
    "\n",
    "# line one iterates through filenames. line 2 reads the csv file and line three adds it to a data frame. append data from each file\n",
    "for filename in filenames:\n",
    "    data = pd.read_csv(filename)\n",
    "    year_2019_df = year_2019_df.append(data)\n",
    "\n",
    "# basically creating a new file with the dataframe of your choice. Index False will remove the index and keep just the data.\n",
    "year_2019_df.to_csv('merged_file.csv', index=False)\n",
    "\n"
   ]
  },
  {
   "attachments": {},
   "cell_type": "markdown",
   "metadata": {},
   "source": [
    "### Read in Merged Data Set"
   ]
  },
  {
   "cell_type": "code",
   "execution_count": null,
   "metadata": {},
   "outputs": [],
   "source": [
    "clean_all_2019 = pd.read_csv('merged_file.csv')\n",
    "clean_all_2019.head()"
   ]
  },
  {
   "attachments": {},
   "cell_type": "markdown",
   "metadata": {},
   "source": [
    "### What was the best month for sales? How much was earned that month?"
   ]
  },
  {
   "cell_type": "code",
   "execution_count": null,
   "metadata": {},
   "outputs": [],
   "source": [
    "clean_all_2019['Months'] = clean_all_2019['Order Date'].str[0:1]\n",
    "# clean_all_2019['Months'] = clean_all_2019['Months'].astype('int32')\n",
    "clean_all_2019.head()"
   ]
  },
  {
   "attachments": {},
   "cell_type": "markdown",
   "metadata": {},
   "source": [
    "### Cleaning Data with Python"
   ]
  },
  {
   "cell_type": "code",
   "execution_count": null,
   "metadata": {},
   "outputs": [],
   "source": [
    "print(clean_all_2019.dtypes)"
   ]
  },
  {
   "cell_type": "code",
   "execution_count": null,
   "metadata": {},
   "outputs": [],
   "source": [
    "# Converted Dataframe to csv file\n",
    "# new_all_2019.to_csv('new_all_2019.csv', index=False)"
   ]
  },
  {
   "cell_type": "code",
   "execution_count": null,
   "metadata": {},
   "outputs": [],
   "source": [
    "# Converted csv file to Dataframe\n",
    "# clean_all_2019 = pd.read_csv('clean_all_2019.csv')\n",
    "# clean_all_2019.head()\n"
   ]
  },
  {
   "cell_type": "code",
   "execution_count": null,
   "metadata": {},
   "outputs": [],
   "source": [
    "# \n",
    "clean_all_2019['Months'] = clean_all_2019['Order Date'].str[0:2]\n",
    "clean_all_2019['Months'] = clean_all_2019['Months'].astype('int32')\n",
    "clean_all_2019.head()"
   ]
  }
 ],
 "metadata": {
  "kernelspec": {
   "display_name": "Python 3",
   "language": "python",
   "name": "python3"
  },
  "language_info": {
   "codemirror_mode": {
    "name": "ipython",
    "version": 3
   },
   "file_extension": ".py",
   "mimetype": "text/x-python",
   "name": "python",
   "nbconvert_exporter": "python",
   "pygments_lexer": "ipython3",
   "version": "3.10.9"
  },
  "orig_nbformat": 4,
  "vscode": {
   "interpreter": {
    "hash": "b47b7a402ee6247eb7f649a01c3cc5cb067c084d2d9829bd69d0f4cb90cacfaf"
   }
  }
 },
 "nbformat": 4,
 "nbformat_minor": 2
}
